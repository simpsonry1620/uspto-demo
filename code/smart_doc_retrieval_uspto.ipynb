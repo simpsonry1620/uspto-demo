{
 "cells": [
  {
   "cell_type": "markdown",
   "id": "8e6bd4f0-3d46-4da1-a101-22dfd61a9fe1",
   "metadata": {},
   "source": [
    "# Smart Document Retrieval\n",
    "<p>The primary focus of the notebook is to illustrate the process of using a transformer model to embed text data into a numerical representation that can be used to calculated a similarity score as compared to a query string embedding.</p>"
   ]
  },
  {
   "cell_type": "markdown",
   "id": "c19ea02a-d728-410e-a0a2-92828bc716d6",
   "metadata": {},
   "source": [
    "## Imports and Helper Functions"
   ]
  },
  {
   "cell_type": "markdown",
   "id": "4d4a8b4b-be15-4c85-bf3c-1be8c9605ba5",
   "metadata": {},
   "source": [
    "### Imports"
   ]
  },
  {
   "cell_type": "code",
   "execution_count": 1,
   "id": "332f8c1d-78af-4d6d-b55a-1d731149288f",
   "metadata": {
    "tags": []
   },
   "outputs": [
    {
     "name": "stderr",
     "output_type": "stream",
     "text": [
      "/usr/local/lib/python3.10/dist-packages/tqdm/auto.py:21: TqdmWarning: IProgress not found. Please update jupyter and ipywidgets. See https://ipywidgets.readthedocs.io/en/stable/user_install.html\n",
      "  from .autonotebook import tqdm as notebook_tqdm\n"
     ]
    }
   ],
   "source": [
    "## Imports and dependencies\n",
    "%load_ext autoreload\n",
    "%autoreload\n",
    "# Importing the needed libraries & Modules\n",
    "\n",
    "import glob\n",
    "import re\n",
    "import pandas as pd\n",
    "from sentence_transformers import SentenceTransformer, util\n",
    "import pickle\n",
    "from pathlib import Path\n",
    "import smart_search\n",
    "import matplotlib.pyplot as plt"
   ]
  },
  {
   "cell_type": "markdown",
   "id": "372db135-da05-4057-86aa-c58eab3510f1",
   "metadata": {},
   "source": [
    "### Notebook Variables"
   ]
  },
  {
   "cell_type": "code",
   "execution_count": 2,
   "id": "3a5c8f1e-e7f0-41d0-ab10-ac68d97f3831",
   "metadata": {},
   "outputs": [],
   "source": [
    "DATASET_NAME = \"uspto\"\n",
    "EMBEDDING_FOLDER = \"../data/embeddings/\"\n",
    "ABSTRACT_PATH = '../data/uspto_abstracts.parquet'\n",
    "\n",
    "query_strings = [\n",
    "    \"An anomaly detector includes a writing unit that writes anomaly detection data readable by an external diagnostic device to an external memory when an anomaly is detected in an on-board device. Further, the anomaly detector includes a determination unit that determines whether a failure is occurring in a memory, which is used when a processor is operated during the writing unit performs the writing. Also, the anomaly detector includes a resetting unit that resets the memory by activating a specified one of reset functions of the processor when the determination unit determines that a failure is occurring in the memory. When the determination unit determines that a failure is occurring in the memory, the writing unit writes the anomaly detection data after the memory is reset by the specified one of the reset functions.\",\n",
    "    \"The anomaly detector writes data to an external memory when an anomaly is detected, checks for memory failures during this process, and if a failure is found, it resets the memory before continuing to write data.\",\n",
    "    ]"
   ]
  },
  {
   "cell_type": "markdown",
   "id": "8b96e374-8eef-4283-8318-71756442f02d",
   "metadata": {},
   "source": [
    "### Helper Functions"
   ]
  },
  {
   "cell_type": "code",
   "execution_count": 3,
   "id": "3557a82b-4774-4710-8cd7-10926304a56e",
   "metadata": {},
   "outputs": [],
   "source": [
    "def load_embeddings(embedding_file_path):\n",
    "    \"\"\"\n",
    "    Load sentences and embeddings from disk.\n",
    "\n",
    "    Parameters:\n",
    "    embedding_file_path (str): Path to the file containing embeddings.\n",
    "\n",
    "    Returns:\n",
    "    stored_embeddings (list): List of stored embeddings.\n",
    "    \"\"\"\n",
    "    with open(embedding_file_path, \"rb\") as fIn:\n",
    "        stored_data = pickle.load(fIn)\n",
    "        stored_message_id = stored_data['document']\n",
    "        stored_embeddings = stored_data['embeddings']\n",
    "\n",
    "    # As of now we only need the stored embeddings\n",
    "    return stored_embeddings\n",
    "\n",
    "def write_embeddings(embedding_folder, embedding_file_name, message_ids, source_embeddings):\n",
    "    \"\"\"\n",
    "    Write embeddings and message IDs to disk.\n",
    "\n",
    "    Parameters:\n",
    "    embedding_folder (str): Folder where the embedding file will be saved.\n",
    "    embedding_file_name (str): Name of the file to save the embeddings.\n",
    "    message_ids (list): List of message IDs.\n",
    "    source_embeddings (list): List of source embeddings.\n",
    "    \"\"\"\n",
    "    # Check if directory exists\n",
    "    dir_path = Path(embedding_folder)\n",
    "    if not dir_path.is_dir():\n",
    "        print(\"Directory does not exist. Creating it now.\")\n",
    "        # If the directory doesn't exist, create it\n",
    "        dir_path.mkdir()\n",
    "    \n",
    "    # Create the file path\n",
    "    file_path = embedding_folder + embedding_file_name\n",
    "    \n",
    "    # Write the embeddings and message IDs to disk\n",
    "    with open(file_path, \"wb\") as fOut:\n",
    "        pickle.dump({'document': message_ids, 'embeddings': source_embeddings}, fOut, protocol=pickle.HIGHEST_PROTOCOL)\n",
    "\n",
    "def plot_scores(dataframe):\n",
    "    \"\"\"\n",
    "    Plots the scores from a dataframe.\n",
    "\n",
    "    Parameters:\n",
    "    dataframe (pd.DataFrame): DataFrame containing the scores to plot. Must have a column named 'semantic_score'.\n",
    "    \"\"\"\n",
    "    if 'semantic_score' not in dataframe.columns:\n",
    "        raise ValueError(\"DataFrame must contain a 'semantic_score' column.\")\n",
    "\n",
    "    plt.figure(figsize=(10, 6))\n",
    "    plt.plot(dataframe.index, dataframe['semantic_score'], marker='o', linestyle='-')\n",
    "    plt.xlabel('Index')\n",
    "    plt.ylabel('Semantic Score')\n",
    "    plt.title('Semantic Score Plot')\n",
    "    plt.grid(True)\n",
    "    plt.show()\n",
    "\n",
    "def get_or_create_embeddings(dataset_name, model_name, model, df, embedding_folder, load_embeddings, write_embeddings):\n",
    "    \"\"\"\n",
    "    This function checks if embeddings for a given dataset and model combination exist. \n",
    "    If they exist, it loads the embeddings. Otherwise, it creates the embeddings and saves them.\n",
    "\n",
    "    Parameters:\n",
    "    - dataset_name (str): Name of the dataset.\n",
    "    - model_name (str): Name of the model.\n",
    "    - model: The model used to create embeddings.\n",
    "    - df (DataFrame): The DataFrame containing the data to embed.\n",
    "    - embedding_folder (str): Path to the folder where embeddings are stored.\n",
    "    - load_embeddings (function): Function to load embeddings from a file.\n",
    "    - write_embeddings (function): Function to write embeddings to a file.\n",
    "\n",
    "    Returns:\n",
    "    - source_embeddings: The embeddings for the dataset.\n",
    "    \"\"\"\n",
    "    # Create the file name that would be used to store the embeddings.\n",
    "    embedding_file_name = \"embeddings_{}_{}.pkl\".format(dataset_name, model_name)\n",
    "\n",
    "    # Create embedding Path object\n",
    "    embedding_file = Path(embedding_folder + embedding_file_name)\n",
    "\n",
    "    # Check if the file exists\n",
    "    if embedding_file.is_file():\n",
    "        # If a file exists with the embedding file for this dataset/model combination, load it.\n",
    "        print(\"Embedding file exists. Loading it now.\")\n",
    "        source_embeddings = load_embeddings(embedding_file)\n",
    "    else:\n",
    "        # If an embedding file does not exist, embed the dataset and cache the data.\n",
    "        print(\"Embedding file does not exist. Creating now.\")\n",
    "        source_embeddings = model.encode(df.Abstract, convert_to_tensor=True, show_progress_bar=True)\n",
    "\n",
    "        # Write out the generated embeddings\n",
    "        write_embeddings(embedding_folder, embedding_file_name, df.Abstract, source_embeddings)\n",
    "\n",
    "    print(embedding_file)\n",
    "    return source_embeddings\n",
    "\n",
    "\n",
    "def get_topk_results(query_embedding, source_embeddings, df, k=50):\n",
    "    \"\"\"\n",
    "    This function performs a semantic search and returns the top k results with their semantic scores.\n",
    "\n",
    "    Parameters:\n",
    "    - query_embedding: The embedding of the query.\n",
    "    - source_embeddings: The embeddings of the source data.\n",
    "    - df (DataFrame): The DataFrame containing the data to search.\n",
    "    - k (int): The number of top results to return.\n",
    "\n",
    "    Returns:\n",
    "    - topk_df (DataFrame): A DataFrame containing the top k results and their semantic scores.\n",
    "    \"\"\"\n",
    "    # Using the util function to run semantic search, default to cosine\n",
    "    topk_results = util.semantic_search(query_embedding, source_embeddings, top_k=k)[0]\n",
    "\n",
    "    # Extract the result ids and scores\n",
    "    topk_results_ids = [result['corpus_id'] for result in topk_results]\n",
    "    topk_scores = [result['score'] for result in topk_results]\n",
    "\n",
    "    # Get a dataframe of the top k results\n",
    "    topk_df = df.iloc[topk_results_ids].reset_index()\n",
    "\n",
    "    # Add the semantic scores to the dataframe\n",
    "    topk_df['semantic_score'] = topk_scores\n",
    "\n",
    "    return topk_df"
   ]
  },
  {
   "cell_type": "markdown",
   "id": "8e1556ad-8ef2-4c04-8d22-229c396760d4",
   "metadata": {},
   "source": [
    "## Example Dataset\n",
    "<p>The example dataset used in this notebook has been stored in a collection of abstracts extracted from the patent-grant-full-text-dataxml dataset. The abstracts were stored as plain text files, then imported into a dataframe and stored in a parquet file.<p>"
   ]
  },
  {
   "cell_type": "code",
   "execution_count": 4,
   "id": "e58dd284-a6b1-4df7-86b1-f5334672ae21",
   "metadata": {
    "tags": []
   },
   "outputs": [
    {
     "name": "stdout",
     "output_type": "stream",
     "text": [
      "534169 abstracts loaded.\n"
     ]
    },
    {
     "data": {
      "text/html": [
       "<div>\n",
       "<style scoped>\n",
       "    .dataframe tbody tr th:only-of-type {\n",
       "        vertical-align: middle;\n",
       "    }\n",
       "\n",
       "    .dataframe tbody tr th {\n",
       "        vertical-align: top;\n",
       "    }\n",
       "\n",
       "    .dataframe thead th {\n",
       "        text-align: right;\n",
       "    }\n",
       "</style>\n",
       "<table border=\"1\" class=\"dataframe\">\n",
       "  <thead>\n",
       "    <tr style=\"text-align: right;\">\n",
       "      <th></th>\n",
       "      <th>Document Number</th>\n",
       "      <th>Date</th>\n",
       "      <th>Title</th>\n",
       "      <th>Abstract</th>\n",
       "    </tr>\n",
       "  </thead>\n",
       "  <tbody>\n",
       "    <tr>\n",
       "      <th>0</th>\n",
       "      <td>11276134</td>\n",
       "      <td>20220315</td>\n",
       "      <td>Reconfigurable image processing hardware pipeline</td>\n",
       "      <td>A reconfigurable image processing pipeline in...</td>\n",
       "    </tr>\n",
       "    <tr>\n",
       "      <th>1</th>\n",
       "      <td>11324814</td>\n",
       "      <td>20220510</td>\n",
       "      <td>Live attenuated oral vaccine against ETEC and ...</td>\n",
       "      <td>Disclosed is the attenuated Salmonella typhi ...</td>\n",
       "    </tr>\n",
       "    <tr>\n",
       "      <th>2</th>\n",
       "      <td>11508069</td>\n",
       "      <td>20221122</td>\n",
       "      <td>Method for processing event data flow and comp...</td>\n",
       "      <td>The present disclosure provides a method for ...</td>\n",
       "    </tr>\n",
       "    <tr>\n",
       "      <th>3</th>\n",
       "      <td>11304408</td>\n",
       "      <td>20220419</td>\n",
       "      <td>Leash attachment</td>\n",
       "      <td>A leash attachment and method for using the l...</td>\n",
       "    </tr>\n",
       "    <tr>\n",
       "      <th>4</th>\n",
       "      <td>11383015</td>\n",
       "      <td>20220712</td>\n",
       "      <td>System and method for plasma purification prio...</td>\n",
       "      <td>A method of collecting mononuclear cells incl...</td>\n",
       "    </tr>\n",
       "  </tbody>\n",
       "</table>\n",
       "</div>"
      ],
      "text/plain": [
       "  Document Number      Date  \\\n",
       "0        11276134  20220315   \n",
       "1        11324814  20220510   \n",
       "2        11508069  20221122   \n",
       "3        11304408  20220419   \n",
       "4        11383015  20220712   \n",
       "\n",
       "                                               Title  \\\n",
       "0  Reconfigurable image processing hardware pipeline   \n",
       "1  Live attenuated oral vaccine against ETEC and ...   \n",
       "2  Method for processing event data flow and comp...   \n",
       "3                                   Leash attachment   \n",
       "4  System and method for plasma purification prio...   \n",
       "\n",
       "                                            Abstract  \n",
       "0   A reconfigurable image processing pipeline in...  \n",
       "1   Disclosed is the attenuated Salmonella typhi ...  \n",
       "2   The present disclosure provides a method for ...  \n",
       "3   A leash attachment and method for using the l...  \n",
       "4   A method of collecting mononuclear cells incl...  "
      ]
     },
     "execution_count": 4,
     "metadata": {},
     "output_type": "execute_result"
    }
   ],
   "source": [
    "# Create the DataFrame\n",
    "abstract_file = Path(ABSTRACT_PATH)\n",
    "\n",
    "if abstract_file.is_file():\n",
    "    df = pd.read_parquet(ABSTRACT_PATH)\n",
    "    print(f\"{df.shape[0]} abstracts loaded.\")\n",
    "else:    \n",
    "    print('Did not find abstract file.')\n",
    "    \n",
    "df.head()    "
   ]
  },
  {
   "cell_type": "markdown",
   "id": "d522c0a4-64de-45a1-a2d4-61ad96835051",
   "metadata": {},
   "source": [
    "## Source Text Embedding\n",
    "<p>Historical methods for search involved simple <a href='https://en.wikipedia.org/wiki/Lexicography'>lexicographical</a> similarity pattern matching such as <a href='https://en.wikipedia.org/wiki/Regular_expression'>regex</a>. Although methods such as lexical search can be useful for some use cases, they have several disadvantages such as needing to specific the precise terms to search for. To improve search results it can be advantageous to search based on <a href='https://en.wikipedia.org/wiki/Semantic_similarity#:~:text=Semantic%20similarity%20is%20a%20metric,as%20opposed%20to%20lexicographical%20similarity.'>sematic similarity</a> using concepts rather than word for comparison.</p>\n",
    "\n",
    "<p>To be able to search by concept we must be able to represent our data in the form of concepts. This is where <a href='https://en.wikipedia.org/wiki/Transformer_(machine_learning_model)'>Transformers</a> come in. <a href='https://en.wikipedia.org/wiki/Transformer_(machine_learning_model)'>Transformers</a> are a form of Machine Learning that can be applied to Natural Language Processing (NLP), the models have been trained on extremely large datasets such as Wikipedia to develop the ability to represent input text as a highly dimensional numerical representation, this process is called <a href='https://vaclavkosar.com/ml/transformer-embeddings-and-tokenization'>embedding</a>. If this sounds complicated, don't worry the hard parts are all abstracted away for us, we just need to use the sentence transformer library. Although there are benefits of understanding how the models work, sometimes it can be just as valuable to show how easy they are to use and how impressive the results can be using off-the-shelf models. If greater accuracy is needed you can always <a href='https://www.sbert.net/docs/training/overview.html'>train transformers</a> on your own datasets to improve their capabilities.</p>"
   ]
  },
  {
   "cell_type": "markdown",
   "id": "030e3398-8aa2-49c4-b71f-f4da717f990d",
   "metadata": {},
   "source": [
    "### Model Selection\n",
    "<p> There are a large number of models to choose from on <a href='https://huggingface.co/'>HuggingFace</a> even for just the task of <a href='https://huggingface.co/models?pipeline_tag=sentence-similarity&sort=downloads'>Sentence Similarity</a>(>800 as of 11/2022). We have included a python module to help simplify organization and selection of a smaller subset of models to experiment with (~100). Using <a href='https://huggingface.co/'>HuggingFace</a> simplifies the process of downloading and running the various models, it is not the only way to consume Transformers but it was chosen as it is one of the easiest ways to get started.</p>\n",
    "    \n",
    "There are several areas to consider when selecting a model for a given task\n",
    "<li><b>Model Size</b> - Large models need more VRAM and can take longer to run but may be more 'accurate'</li>\n",
    "<li><b>Model Architecture</b> - Some models might be designed for specific use cases or finetuned for a given problem. If your use case is similar, you might have high performance out of the box.</li>\n",
    "<li><b>Task</b> - Different models have been trained for different tasks. Some examples of various tasks include; Semantic Similarity, Semantic Search, Questioning and Answering, and Document Summarization. \n",
    "    \n",
    "<p>As stated above, the models have been trained to solve a specific workflow. In our case we are trying to identify Semantically Similar documents to our query string. Within the Semantic Similarity group there are subgroups of tasks. These tasks include identifying semantically similar sentences where we try to evaluate two or more sentences and score their similarity. When the elements being evaluated are of similar length (sentence to sentence, paragraph to parapraph) the process is called <b>symmetric semantic search</b>. If you are evaluating a short query phrase or word to sentance, paragraphs, or even documents it is refered to as <b>asymmetric semantic search</b> and models have been specially trained for each type.</p>\n",
    "    \n",
    "<li><a href='https://www.sbert.net/docs/pretrained_models.html#sentence-embedding-models'>Symmetric Semantic Search Pretrained Models</a></li>\n",
    "<li><a href='https://www.sbert.net/docs/pretrained-models/msmarco-v3.html'>Asymmetric Semantic Search</a>"
   ]
  },
  {
   "cell_type": "markdown",
   "id": "8f6d366e-220d-4917-9395-a40fdc9dba92",
   "metadata": {
    "tags": []
   },
   "source": [
    "### Loading the Model\n",
    "<p>Loading the model is a simple as passing the model's name as an input argument to create a model object. If the model isn't available locally it will be downloaded automatically. One of the hardest parts of working with HuggingFace is keeping track of all the models available. You can view all the models available for <a href='https://huggingface.co/models?pipeline_tag=sentence-similarity&sort=downloads'>Sentence Similarity</a> and copy the name into the code or to simplify things we have created a very basic python module <a href='smart_search.py'>smart_search.py</a> to hold model names.</p>\n",
    "\n",
    "<details>\n",
    "  <summary>SentenceTransformer Parameters</summary>\n",
    "<li><b>model_name_or_path</b> – If it is a filepath on disc, it loads the model from that path. If it is not a path, it first tries to download a pre-trained SentenceTransformer model. If that fails, tries to construct a model from Huggingface models repository with that name.</li>\n",
    "<li><b>modules</b> – This parameter can be used to create custom SentenceTransformer models from scratch.</li>\n",
    "<li><b>device</b> – Device (like ‘cuda’ / ‘cpu’) that should be used for computation. If None, checks if a GPU can be used.</li>\n",
    "<li><b>cache_folder</b> – Path to store models</li>\n",
    "<li><b>use_auth_token</b> – HuggingFace authentication token to download private models.</li>\n",
    "    </details>"
   ]
  },
  {
   "cell_type": "code",
   "execution_count": 5,
   "id": "77d3181b-83c9-4868-80f9-e88194092c63",
   "metadata": {
    "tags": []
   },
   "outputs": [
    {
     "name": "stdout",
     "output_type": "stream",
     "text": [
      "Loading model: 'msmarco-distilbert-base-v4'\n"
     ]
    },
    {
     "name": "stderr",
     "output_type": "stream",
     "text": [
      "/home/workbench/.local/lib/python3.10/site-packages/huggingface_hub/file_download.py:1132: FutureWarning: `resume_download` is deprecated and will be removed in version 1.0.0. Downloads always resume when possible. If you want to force a new download, use `force_download=True`.\n",
      "  warnings.warn(\n"
     ]
    }
   ],
   "source": [
    "# Select and load model.\n",
    "# Note: If a given model hasn't been used since the container has been loaded it will be downloaded automatically.\n",
    "\n",
    "# The sentence_models list is a large list of models. They have not been grouped by task beyond sentence similarity \n",
    "#model_name = smart_search.sentence_models[3]\n",
    "#model_name = smart_search_models.default_model\n",
    "\n",
    "# asymmetric_cosine_similarity_models are special purpose models for Asymmetric Semantic Similarity through cosine similarity calculations\n",
    "model_name = smart_search.asymmetric_cosine_similarity_models[0]\n",
    "\n",
    "# symmetric_models are special purpose models for Symmetric Sematic Similarity\n",
    "#model_name = smart_search.symmetric_models[3]\n",
    "\n",
    "print(\"Loading model: '{}'\".format(model_name))\n",
    "#model = SentenceTransformer(model_name,cache_folder='./models/', device='cpu')\n",
    "model = SentenceTransformer(model_name,cache_folder='../models/', device='cuda')"
   ]
  },
  {
   "cell_type": "markdown",
   "id": "0f3c4a8b-190e-46c2-9af3-d1b37a0f6aa0",
   "metadata": {
    "tags": []
   },
   "source": [
    "### Source Text Embedding\n",
    "<p>To embed the source text, we can pass the entire column of our dataset into the model object in a single line of code as shown in the cell blocks below.</p>\n",
    "\n",
    "<p>A couple important items to note here:\n",
    "    <li>You only need to embed the source text once for a given model. Depending on your use case you may wish to database the embeddings for later use, just remember to keep track of the model used for embedding and the source document.</li>\n",
    "    <li>As each model will embed the input text differently you need to ensure the source text and query text were embedded using the same model. If you choose to database or store your embedding for later just be sure to track which models were used for the embedding as you will likely get unexpected results if comparing embedding from different models.</li>\n",
    "    </p>\n",
    "\n",
    "\n",
    "<details>\n",
    "  <summary>encode Parameters</summary>\n",
    "    <li><b>sentences</b> – the sentences to embed</li>\n",
    "    <li><b>batch_size</b> – the batch size used for the computation</li>\n",
    "    <li><b>show_progress_bar</b> – Output a progress bar when encode sentences</li>\n",
    "    <li><b>output_value</b> – Default sentence_embedding, to get sentence embeddings. Can be set to token_embeddings to get wordpiece token embeddings. Set to None, to get all output values</li>\n",
    "    <li><b>convert_to_numpy</b> – If true, the output is a list of numpy vectors. Else, it is a list of pytorch tensors.</li>\n",
    "    <li><b>convert_to_tensor</b> – If true, you get one large tensor as return. Overwrites any setting from convert_to_numpy</li>\n",
    "    <li><b>device</b> – Which torch.device to use for the computation</li>\n",
    "    <li><b>normalize_embeddings</b> – If set to true, returned vectors will have length 1. In that case, the faster dot-product (util.dot_score) instead of cosine similarity can be used.</li>\n",
    "</details>"
   ]
  },
  {
   "cell_type": "markdown",
   "id": "3f289d0e-c1d9-47f5-8b0c-15b8a2314eae",
   "metadata": {},
   "source": [
    "### Embedding the entire dataset\n",
    "We only need to embed the entire dataset once. We can check if the model / dataset embeddings already exist. If so just load them from disk. If not, process them. This can take as long as 30 minutes to embed the ~500,000 patents.\n",
    "\n",
    "The timings are a result of test runs using an NVIDIA RTX A3500 on a Dell Precision 5680 Laptop.\n",
    "\n",
    "<details>\n",
    "  <summary>Benchmark Timing</summary>\n",
    "    <b>Model</b> – msmarco-distilbert-base-v4\n",
    "    <li><b>Abstracts</b> – 534,169</li>\n",
    "    <li><b>Wall Time</b> – 12min 26s</li>\n",
    "</details>"
   ]
  },
  {
   "cell_type": "code",
   "execution_count": 6,
   "id": "22f1e6f2-fe92-40bb-aeda-c4226855bb6d",
   "metadata": {},
   "outputs": [
    {
     "name": "stdout",
     "output_type": "stream",
     "text": [
      "Embedding file does not exist. Creating now.\n"
     ]
    },
    {
     "name": "stderr",
     "output_type": "stream",
     "text": [
      "Batches: 100%|██████████| 16693/16693 [12:15<00:00, 22.71it/s] \n"
     ]
    },
    {
     "name": "stdout",
     "output_type": "stream",
     "text": [
      "Directory does not exist. Creating it now.\n",
      "../data/embeddings/embeddings_uspto_msmarco-distilbert-base-v4.pkl\n",
      "CPU times: user 19min 21s, sys: 4min 7s, total: 23min 29s\n",
      "Wall time: 12min 26s\n"
     ]
    }
   ],
   "source": [
    "%%time\n",
    "source_embeddings = get_or_create_embeddings(DATASET_NAME, model_name, model, df, EMBEDDING_FOLDER, load_embeddings, write_embeddings)"
   ]
  },
  {
   "cell_type": "markdown",
   "id": "6d3b6bc1-f0a3-4c1f-946f-529bba635dcd",
   "metadata": {},
   "source": [
    "## 6) Query String Embedding\n",
    "<p>Using the same model, we then embed our query string to be used for comparison.</p>"
   ]
  },
  {
   "cell_type": "code",
   "execution_count": 7,
   "id": "a1c44b46-0319-4f84-8f58-d417b5684428",
   "metadata": {
    "tags": []
   },
   "outputs": [
    {
     "name": "stdout",
     "output_type": "stream",
     "text": [
      "['The anomaly detector writes data to an external memory when an anomaly is detected, checks for memory failures during this process, and if a failure is found, it resets the memory before continuing to write data.']\n",
      "CPU times: user 14.7 ms, sys: 0 ns, total: 14.7 ms\n",
      "Wall time: 29.8 ms\n"
     ]
    }
   ],
   "source": [
    "%%time\n",
    "# Embed the query string\n",
    "#query_string = 'Artificial intelligence (AI) anomaly monitoring in a storage system. The AI anomaly monitoring may include writing commands into a log jointly with the execution of the commands on storage media of a drive. The log includes information regarding the operation of the drive including, at least, the commands. In turn, each drive in the storage system may include an AI processor core that may access the log and apply an AI analysis to the log to monitor for an anomaly regarding the operation of the drive. As each drive in the storage system may use the AI process core to detect anomalies locally to the drive, the computational and network resources needed to employ the AI monitoring may be reduced.'\n",
    "query_string = [query_strings[1]]\n",
    "query_embedding = model.encode(query_string,convert_to_tensor=True)\n",
    "\n",
    "print(query_string)"
   ]
  },
  {
   "cell_type": "markdown",
   "id": "722045ab-8aad-4303-88ae-4663229769c5",
   "metadata": {},
   "source": [
    "## 7) Similarity Scoring and Ranking\n",
    "<p>Next, we need to calculate the similarity between the query embedding and all the source text embeddings. One of the most common approaches is to calculate the cosine similarity. Again, the complexities and math have been abstracted here with the <a href='https://www.sbert.net/docs/package_reference/util.html'>util.cos_sim</a> and sematic_search functions.</p>"
   ]
  },
  {
   "cell_type": "code",
   "execution_count": 8,
   "id": "03960d01-da91-446a-a5a6-70c009c2fc30",
   "metadata": {},
   "outputs": [
    {
     "name": "stdout",
     "output_type": "stream",
     "text": [
      "CPU times: user 70.5 ms, sys: 9.15 ms, total: 79.7 ms\n",
      "Wall time: 97.8 ms\n"
     ]
    }
   ],
   "source": [
    "%%time\n",
    "topk_df = get_topk_results(query_embedding, source_embeddings, df, k=50)"
   ]
  },
  {
   "cell_type": "code",
   "execution_count": 9,
   "id": "4e980eec-aff4-4d81-8d97-2be655c4c1b4",
   "metadata": {
    "tags": []
   },
   "outputs": [
    {
     "data": {
      "text/html": [
       "<div>\n",
       "<style scoped>\n",
       "    .dataframe tbody tr th:only-of-type {\n",
       "        vertical-align: middle;\n",
       "    }\n",
       "\n",
       "    .dataframe tbody tr th {\n",
       "        vertical-align: top;\n",
       "    }\n",
       "\n",
       "    .dataframe thead th {\n",
       "        text-align: right;\n",
       "    }\n",
       "</style>\n",
       "<table border=\"1\" class=\"dataframe\">\n",
       "  <thead>\n",
       "    <tr style=\"text-align: right;\">\n",
       "      <th></th>\n",
       "      <th>index</th>\n",
       "      <th>Document Number</th>\n",
       "      <th>Date</th>\n",
       "      <th>Title</th>\n",
       "      <th>Abstract</th>\n",
       "      <th>semantic_score</th>\n",
       "    </tr>\n",
       "  </thead>\n",
       "  <tbody>\n",
       "    <tr>\n",
       "      <th>0</th>\n",
       "      <td>371003</td>\n",
       "      <td>11379310</td>\n",
       "      <td>20220705</td>\n",
       "      <td>Anomaly detector</td>\n",
       "      <td>An anomaly detector includes a writing unit t...</td>\n",
       "      <td>0.880796</td>\n",
       "    </tr>\n",
       "    <tr>\n",
       "      <th>1</th>\n",
       "      <td>405805</td>\n",
       "      <td>11423698</td>\n",
       "      <td>20220823</td>\n",
       "      <td>Anomaly detector for detecting anomaly using c...</td>\n",
       "      <td>Embodiments of the present disclosure disclos...</td>\n",
       "      <td>0.723084</td>\n",
       "    </tr>\n",
       "    <tr>\n",
       "      <th>2</th>\n",
       "      <td>121415</td>\n",
       "      <td>11689434</td>\n",
       "      <td>20230627</td>\n",
       "      <td>Network anomaly detection</td>\n",
       "      <td>An anomaly detector of a Controller Area Netw...</td>\n",
       "      <td>0.696264</td>\n",
       "    </tr>\n",
       "    <tr>\n",
       "      <th>3</th>\n",
       "      <td>312248</td>\n",
       "      <td>11425005</td>\n",
       "      <td>20220823</td>\n",
       "      <td>Controller area network anomaly detection</td>\n",
       "      <td>An anomaly detector of a Controller Area Netw...</td>\n",
       "      <td>0.696240</td>\n",
       "    </tr>\n",
       "    <tr>\n",
       "      <th>4</th>\n",
       "      <td>254448</td>\n",
       "      <td>11293989</td>\n",
       "      <td>20220405</td>\n",
       "      <td>Anomaly detection device, anomaly detection me...</td>\n",
       "      <td>An anomaly detection device includes: at leas...</td>\n",
       "      <td>0.684741</td>\n",
       "    </tr>\n",
       "  </tbody>\n",
       "</table>\n",
       "</div>"
      ],
      "text/plain": [
       "    index Document Number      Date  \\\n",
       "0  371003        11379310  20220705   \n",
       "1  405805        11423698  20220823   \n",
       "2  121415        11689434  20230627   \n",
       "3  312248        11425005  20220823   \n",
       "4  254448        11293989  20220405   \n",
       "\n",
       "                                               Title  \\\n",
       "0                                   Anomaly detector   \n",
       "1  Anomaly detector for detecting anomaly using c...   \n",
       "2                          Network anomaly detection   \n",
       "3          Controller area network anomaly detection   \n",
       "4  Anomaly detection device, anomaly detection me...   \n",
       "\n",
       "                                            Abstract  semantic_score  \n",
       "0   An anomaly detector includes a writing unit t...        0.880796  \n",
       "1   Embodiments of the present disclosure disclos...        0.723084  \n",
       "2   An anomaly detector of a Controller Area Netw...        0.696264  \n",
       "3   An anomaly detector of a Controller Area Netw...        0.696240  \n",
       "4   An anomaly detection device includes: at leas...        0.684741  "
      ]
     },
     "execution_count": 9,
     "metadata": {},
     "output_type": "execute_result"
    }
   ],
   "source": [
    "topk_df.head()"
   ]
  },
  {
   "cell_type": "code",
   "execution_count": 10,
   "id": "89de9eb7-a36d-41b2-81d4-fc1cfb391d71",
   "metadata": {
    "tags": []
   },
   "outputs": [
    {
     "name": "stdout",
     "output_type": "stream",
     "text": [
      "Document: 11379310\n",
      "Title: Anomaly detector\n",
      "Semantic Score: 0.8807964324951172\n",
      "Abstract:  An anomaly detector includes a writing unit that writes anomaly detection data readable by an external diagnostic device to an external memory when an anomaly is detected in an on-board device. Further, the anomaly detector includes a determination unit that determines whether a failure is occurring in a memory, which is used when a processor is operated during the writing unit performs the writing. Also, the anomaly detector includes a resetting unit that resets the memory by activating a specified one of reset functions of the processor when the determination unit determines that a failure is occurring in the memory. When the determination unit determines that a failure is occurring in the memory, the writing unit writes the anomaly detection data after the memory is reset by the specified one of the reset functions. \n",
      "\n",
      "Document: 11423698\n",
      "Title: Anomaly detector for detecting anomaly using complementary classifiers\n",
      "Semantic Score: 0.7230844497680664\n",
      "Abstract:  Embodiments of the present disclosure disclose an anomaly detector for detecting an anomaly in a sequence of poses of a human performing an activity. The anomaly detector includes an input interface configured to accept input data indicative of a distribution of the sequence of poses, a memory configured to store a discriminative one-class classifier having a pair of complementary classifiers bounding normal distribution of pose sequences in a reproducing kernel Hilbert space (RKHS), a processor configured to embed the input data into an element of the RKHS and classify the embedded data using the discriminative one-class classifier, and an output interface configured to render a classification result. \n",
      "\n",
      "Document: 11689434\n",
      "Title: Network anomaly detection\n",
      "Semantic Score: 0.6962644457817078\n",
      "Abstract:  An anomaly detector of a Controller Area Network (CAN) bus performs analysis on messages received from the CAN bus to determine if the messages are anomalous. The anomaly detector may be implemented on a vehicle by an Electronic Control Unit (ECU). The anomaly detector may extract a batch of feature vectors for binary messages received from the CAN bus. The anomaly detector then performs a model adaption to adapt a previous probability model with the batch of feature vectors. The adapted probability model is then compared with a universal background model to determine a network anomaly level. \n",
      "\n",
      "Document: 11425005\n",
      "Title: Controller area network anomaly detection\n",
      "Semantic Score: 0.6962398886680603\n",
      "Abstract:  An anomaly detector of a Controller Area Network (CAN) bus performs analysis on messages received from the CAN bus to determine if the messages are anomalous. The anomaly detector may be implemented on a vehicle by an Electronic Control Unit (ECU). The anomaly detector may extract a batch of feature vectors for binary messages received from the CAN bus. The anomaly detector then performs a model adaption to adapt a previous probability model with the batch of feature vectors. The adapted probability model is then compared with a universal background model to determine a network anomaly level. \n",
      "\n",
      "Document: 11293989\n",
      "Title: Anomaly detection device, anomaly detection method, and recording medium\n",
      "Semantic Score: 0.6847413778305054\n",
      "Abstract:  An anomaly detection device includes: at least one memory configured to store instructions; and at least one processor configured to execute the instructions to: cluster a plurality of power storage systems into a plurality of clusters; generate a detection model for detecting an anomaly in the power storage systems for each of the clusters; and detect an anomaly in the power storage system for each of the clusters by using the detection model associated with the cluster. \n",
      "\n"
     ]
    }
   ],
   "source": [
    "for i in range(5):\n",
    "    print(f\"Document: {topk_df['Document Number'][i]}\")\n",
    "    print(f\"Title: {topk_df['Title'][i]}\")\n",
    "    print(f\"Semantic Score: {topk_df['semantic_score'][i]}\")\n",
    "    print(f\"Abstract: {topk_df['Abstract'][i]}\\n\")\n",
    "    "
   ]
  },
  {
   "cell_type": "markdown",
   "id": "b1b91d2e-d4d9-4dc1-8fc0-e225f443e067",
   "metadata": {},
   "source": [
    "## Visualizing the Semantic Scores"
   ]
  },
  {
   "cell_type": "code",
   "execution_count": 11,
   "id": "914caacb-9270-4547-a26a-63931aebf2d3",
   "metadata": {},
   "outputs": [
    {
     "data": {
      "image/png": "[encoded data removed]",
      "text/plain": [
       "<Figure size 1000x600 with 1 Axes>"
      ]
     },
     "metadata": {},
     "output_type": "display_data"
    }
   ],
   "source": [
    "plot_scores(topk_df)"
   ]
  }
 ],
 "metadata": {
  "kernelspec": {
   "display_name": "Python 3 (ipykernel)",
   "language": "python",
   "name": "python3"
  },
  "language_info": {
   "codemirror_mode": {
    "name": "ipython",
    "version": 3
   },
   "file_extension": ".py",
   "mimetype": "text/x-python",
   "name": "python",
   "nbconvert_exporter": "python",
   "pygments_lexer": "ipython3",
   "version": "3.10.12"
  }
 },
 "nbformat": 4,
 "nbformat_minor": 5
}
